{
 "cells": [
  {
   "cell_type": "markdown",
   "metadata": {
    "id": "MnRQztRnD3bf"
   },
   "source": [
    "# Multiclass Multilabel prediction For stack overflow Questions"
   ]
  },
  {
   "cell_type": "markdown",
   "metadata": {
    "id": "oWw3Cje2EcXC"
   },
   "source": [
    "## Import Libraries"
   ]
  },
  {
   "cell_type": "code",
   "execution_count": 1,
   "metadata": {
    "colab": {
     "base_uri": "https://localhost:8080/"
    },
    "id": "SntQfxh1DOiu",
    "outputId": "3c94c607-2342-4d4d-b559-8e68f6f8a583"
   },
   "outputs": [
    {
     "name": "stdout",
     "output_type": "stream",
     "text": [
      "Drive already mounted at /content/gdrive; to attempt to forcibly remount, call drive.mount(\"/content/gdrive\", force_remount=True).\n"
     ]
    }
   ],
   "source": [
    "from google.colab import drive\n",
    "drive.mount('/content/gdrive')"
   ]
  },
  {
   "cell_type": "code",
   "execution_count": 3,
   "metadata": {
    "colab": {
     "base_uri": "https://localhost:8080/"
    },
    "id": "zJu7dYnXEmd5",
    "outputId": "d333cd2d-6a26-4f87-a026-0b3619db4ed5"
   },
   "outputs": [
    {
     "name": "stdout",
     "output_type": "stream",
     "text": [
      "[nltk_data] Downloading package punkt to /root/nltk_data...\n",
      "[nltk_data]   Package punkt is already up-to-date!\n",
      "[nltk_data] Downloading package stopwords to /root/nltk_data...\n",
      "[nltk_data]   Package stopwords is already up-to-date!\n",
      "[nltk_data] Downloading package wordnet to /root/nltk_data...\n",
      "[nltk_data]   Package wordnet is already up-to-date!\n"
     ]
    }
   ],
   "source": [
    "import numpy as np\n",
    "import pandas as pd\n",
    "\n",
    "import nltk\n",
    "nltk.download('punkt')\n",
    "nltk.download('stopwords')\n",
    "nltk.download('wordnet')\n",
    "from nltk import sent_tokenize, word_tokenize\n",
    "from nltk.corpus import stopwords\n",
    "from nltk.stem import WordNetLemmatizer\n",
    "\n",
    "from sklearn.model_selection import train_test_split\n",
    "from sklearn.preprocessing import MultiLabelBinarizer\n",
    "from nltk import word_tokenize\n",
    "from keras.preprocessing.text import Tokenizer\n",
    "from keras.preprocessing import sequence\n",
    "from keras.layers import LSTM, Activation, Dense, Dropout, Input, Embedding, BatchNormalization, GRU ,concatenate\n",
    "from keras.models import Model\n",
    "from sklearn.utils import class_weight\n",
    "from keras.models import Sequential\n",
    "from keras.callbacks import ModelCheckpoint\n",
    "from keras.callbacks import EarlyStopping\n",
    "from keras import models\n",
    "from keras.models import load_model\n",
    "from sklearn.metrics import roc_auc_score, accuracy_score"
   ]
  },
  {
   "cell_type": "markdown",
   "metadata": {
    "id": "8P2TngelU5UI"
   },
   "source": [
    "## Load Questions Dataset"
   ]
  },
  {
   "cell_type": "code",
   "execution_count": 7,
   "metadata": {
    "colab": {
     "base_uri": "https://localhost:8080/",
     "height": 405
    },
    "id": "dnJ-fkvSEnK3",
    "outputId": "550e3fbb-97ad-4ca0-d32e-3a8f6b95e4a2"
   },
   "outputs": [
    {
     "data": {
      "text/html": [
       "<div>\n",
       "<style scoped>\n",
       "    .dataframe tbody tr th:only-of-type {\n",
       "        vertical-align: middle;\n",
       "    }\n",
       "\n",
       "    .dataframe tbody tr th {\n",
       "        vertical-align: top;\n",
       "    }\n",
       "\n",
       "    .dataframe thead th {\n",
       "        text-align: right;\n",
       "    }\n",
       "</style>\n",
       "<table border=\"1\" class=\"dataframe\">\n",
       "  <thead>\n",
       "    <tr style=\"text-align: right;\">\n",
       "      <th></th>\n",
       "      <th>Id</th>\n",
       "      <th>OwnerUserId</th>\n",
       "      <th>CreationDate</th>\n",
       "      <th>ClosedDate</th>\n",
       "      <th>Score</th>\n",
       "      <th>Title</th>\n",
       "      <th>Body</th>\n",
       "    </tr>\n",
       "  </thead>\n",
       "  <tbody>\n",
       "    <tr>\n",
       "      <th>0</th>\n",
       "      <td>80</td>\n",
       "      <td>26.0</td>\n",
       "      <td>2008-08-01T13:57:07Z</td>\n",
       "      <td>NaN</td>\n",
       "      <td>26</td>\n",
       "      <td>SQLStatement.execute() - multiple queries in o...</td>\n",
       "      <td>&lt;p&gt;I've written a database generation script i...</td>\n",
       "    </tr>\n",
       "    <tr>\n",
       "      <th>1</th>\n",
       "      <td>90</td>\n",
       "      <td>58.0</td>\n",
       "      <td>2008-08-01T14:41:24Z</td>\n",
       "      <td>2012-12-26T03:45:49Z</td>\n",
       "      <td>144</td>\n",
       "      <td>Good branching and merging tutorials for Torto...</td>\n",
       "      <td>&lt;p&gt;Are there any really good tutorials explain...</td>\n",
       "    </tr>\n",
       "    <tr>\n",
       "      <th>2</th>\n",
       "      <td>120</td>\n",
       "      <td>83.0</td>\n",
       "      <td>2008-08-01T15:50:08Z</td>\n",
       "      <td>NaN</td>\n",
       "      <td>21</td>\n",
       "      <td>ASP.NET Site Maps</td>\n",
       "      <td>&lt;p&gt;Has anyone got experience creating &lt;strong&gt;...</td>\n",
       "    </tr>\n",
       "    <tr>\n",
       "      <th>3</th>\n",
       "      <td>180</td>\n",
       "      <td>2089740.0</td>\n",
       "      <td>2008-08-01T18:42:19Z</td>\n",
       "      <td>NaN</td>\n",
       "      <td>53</td>\n",
       "      <td>Function for creating color wheels</td>\n",
       "      <td>&lt;p&gt;This is something I've pseudo-solved many t...</td>\n",
       "    </tr>\n",
       "    <tr>\n",
       "      <th>4</th>\n",
       "      <td>260</td>\n",
       "      <td>91.0</td>\n",
       "      <td>2008-08-01T23:22:08Z</td>\n",
       "      <td>NaN</td>\n",
       "      <td>49</td>\n",
       "      <td>Adding scripting functionality to .NET applica...</td>\n",
       "      <td>&lt;p&gt;I have a little game written in C#. It uses...</td>\n",
       "    </tr>\n",
       "  </tbody>\n",
       "</table>\n",
       "</div>"
      ],
      "text/plain": [
       "    Id  ...                                               Body\n",
       "0   80  ...  <p>I've written a database generation script i...\n",
       "1   90  ...  <p>Are there any really good tutorials explain...\n",
       "2  120  ...  <p>Has anyone got experience creating <strong>...\n",
       "3  180  ...  <p>This is something I've pseudo-solved many t...\n",
       "4  260  ...  <p>I have a little game written in C#. It uses...\n",
       "\n",
       "[5 rows x 7 columns]"
      ]
     },
     "execution_count": 7,
     "metadata": {
      "tags": []
     },
     "output_type": "execute_result"
    }
   ],
   "source": [
    "questions_data = pd.read_csv('/content/gdrive/My Drive/Deep_Learning/stacksample/Questions.csv',encoding='iso-8859-1')\n",
    "questions_data.head()"
   ]
  },
  {
   "cell_type": "markdown",
   "metadata": {
    "id": "6-KiUqEpWFXK"
   },
   "source": [
    "## Cleaning and preprocessing of Questions Data"
   ]
  },
  {
   "cell_type": "code",
   "execution_count": 8,
   "metadata": {
    "colab": {
     "base_uri": "https://localhost:8080/"
    },
    "id": "rZCmeix9KVOJ",
    "outputId": "f1ca367f-474d-4876-e6e5-0b3ab421d473"
   },
   "outputs": [
    {
     "data": {
      "text/plain": [
       "(1264216, 7)"
      ]
     },
     "execution_count": 8,
     "metadata": {
      "tags": []
     },
     "output_type": "execute_result"
    }
   ],
   "source": [
    "questions_data.shape"
   ]
  },
  {
   "cell_type": "code",
   "execution_count": 9,
   "metadata": {
    "colab": {
     "base_uri": "https://localhost:8080/"
    },
    "id": "HM0B71_IKVSZ",
    "outputId": "49f558e3-2164-4443-988d-5011ae0db865"
   },
   "outputs": [
    {
     "data": {
      "text/plain": [
       "(188015, 7)"
      ]
     },
     "execution_count": 9,
     "metadata": {
      "tags": []
     },
     "output_type": "execute_result"
    }
   ],
   "source": [
    "questions_data[questions_data.Score > 2].shape"
   ]
  },
  {
   "cell_type": "code",
   "execution_count": 10,
   "metadata": {
    "colab": {
     "base_uri": "https://localhost:8080/",
     "height": 422
    },
    "id": "DI1qDO-RKVVV",
    "outputId": "648c7bc3-6326-4512-b333-3661fc9549e5"
   },
   "outputs": [
    {
     "name": "stdout",
     "output_type": "stream",
     "text": [
      "(188015, 7)\n"
     ]
    },
    {
     "data": {
      "text/html": [
       "<div>\n",
       "<style scoped>\n",
       "    .dataframe tbody tr th:only-of-type {\n",
       "        vertical-align: middle;\n",
       "    }\n",
       "\n",
       "    .dataframe tbody tr th {\n",
       "        vertical-align: top;\n",
       "    }\n",
       "\n",
       "    .dataframe thead th {\n",
       "        text-align: right;\n",
       "    }\n",
       "</style>\n",
       "<table border=\"1\" class=\"dataframe\">\n",
       "  <thead>\n",
       "    <tr style=\"text-align: right;\">\n",
       "      <th></th>\n",
       "      <th>Id</th>\n",
       "      <th>OwnerUserId</th>\n",
       "      <th>CreationDate</th>\n",
       "      <th>ClosedDate</th>\n",
       "      <th>Score</th>\n",
       "      <th>Title</th>\n",
       "      <th>Body</th>\n",
       "    </tr>\n",
       "  </thead>\n",
       "  <tbody>\n",
       "    <tr>\n",
       "      <th>0</th>\n",
       "      <td>80</td>\n",
       "      <td>26.0</td>\n",
       "      <td>2008-08-01T13:57:07Z</td>\n",
       "      <td>NaN</td>\n",
       "      <td>26</td>\n",
       "      <td>SQLStatement.execute() - multiple queries in o...</td>\n",
       "      <td>&lt;p&gt;I've written a database generation script i...</td>\n",
       "    </tr>\n",
       "    <tr>\n",
       "      <th>1</th>\n",
       "      <td>90</td>\n",
       "      <td>58.0</td>\n",
       "      <td>2008-08-01T14:41:24Z</td>\n",
       "      <td>2012-12-26T03:45:49Z</td>\n",
       "      <td>144</td>\n",
       "      <td>Good branching and merging tutorials for Torto...</td>\n",
       "      <td>&lt;p&gt;Are there any really good tutorials explain...</td>\n",
       "    </tr>\n",
       "    <tr>\n",
       "      <th>2</th>\n",
       "      <td>120</td>\n",
       "      <td>83.0</td>\n",
       "      <td>2008-08-01T15:50:08Z</td>\n",
       "      <td>NaN</td>\n",
       "      <td>21</td>\n",
       "      <td>ASP.NET Site Maps</td>\n",
       "      <td>&lt;p&gt;Has anyone got experience creating &lt;strong&gt;...</td>\n",
       "    </tr>\n",
       "    <tr>\n",
       "      <th>3</th>\n",
       "      <td>180</td>\n",
       "      <td>2089740.0</td>\n",
       "      <td>2008-08-01T18:42:19Z</td>\n",
       "      <td>NaN</td>\n",
       "      <td>53</td>\n",
       "      <td>Function for creating color wheels</td>\n",
       "      <td>&lt;p&gt;This is something I've pseudo-solved many t...</td>\n",
       "    </tr>\n",
       "    <tr>\n",
       "      <th>4</th>\n",
       "      <td>260</td>\n",
       "      <td>91.0</td>\n",
       "      <td>2008-08-01T23:22:08Z</td>\n",
       "      <td>NaN</td>\n",
       "      <td>49</td>\n",
       "      <td>Adding scripting functionality to .NET applica...</td>\n",
       "      <td>&lt;p&gt;I have a little game written in C#. It uses...</td>\n",
       "    </tr>\n",
       "  </tbody>\n",
       "</table>\n",
       "</div>"
      ],
      "text/plain": [
       "    Id  ...                                               Body\n",
       "0   80  ...  <p>I've written a database generation script i...\n",
       "1   90  ...  <p>Are there any really good tutorials explain...\n",
       "2  120  ...  <p>Has anyone got experience creating <strong>...\n",
       "3  180  ...  <p>This is something I've pseudo-solved many t...\n",
       "4  260  ...  <p>I have a little game written in C#. It uses...\n",
       "\n",
       "[5 rows x 7 columns]"
      ]
     },
     "execution_count": 10,
     "metadata": {
      "tags": []
     },
     "output_type": "execute_result"
    }
   ],
   "source": [
    "questions_data = questions_data[questions_data.Score > 2]\n",
    "print(questions_data.shape)\n",
    "questions_data.head()"
   ]
  },
  {
   "cell_type": "code",
   "execution_count": 11,
   "metadata": {
    "colab": {
     "base_uri": "https://localhost:8080/",
     "height": 203
    },
    "id": "2HETOv7hMGJQ",
    "outputId": "4e764d6c-c1da-490e-a681-5dabff0c5821"
   },
   "outputs": [
    {
     "data": {
      "text/html": [
       "<div>\n",
       "<style scoped>\n",
       "    .dataframe tbody tr th:only-of-type {\n",
       "        vertical-align: middle;\n",
       "    }\n",
       "\n",
       "    .dataframe tbody tr th {\n",
       "        vertical-align: top;\n",
       "    }\n",
       "\n",
       "    .dataframe thead th {\n",
       "        text-align: right;\n",
       "    }\n",
       "</style>\n",
       "<table border=\"1\" class=\"dataframe\">\n",
       "  <thead>\n",
       "    <tr style=\"text-align: right;\">\n",
       "      <th></th>\n",
       "      <th>Id</th>\n",
       "      <th>Title</th>\n",
       "      <th>Body</th>\n",
       "    </tr>\n",
       "  </thead>\n",
       "  <tbody>\n",
       "    <tr>\n",
       "      <th>0</th>\n",
       "      <td>80</td>\n",
       "      <td>SQLStatement.execute() - multiple queries in o...</td>\n",
       "      <td>&lt;p&gt;I've written a database generation script i...</td>\n",
       "    </tr>\n",
       "    <tr>\n",
       "      <th>1</th>\n",
       "      <td>90</td>\n",
       "      <td>Good branching and merging tutorials for Torto...</td>\n",
       "      <td>&lt;p&gt;Are there any really good tutorials explain...</td>\n",
       "    </tr>\n",
       "    <tr>\n",
       "      <th>2</th>\n",
       "      <td>120</td>\n",
       "      <td>ASP.NET Site Maps</td>\n",
       "      <td>&lt;p&gt;Has anyone got experience creating &lt;strong&gt;...</td>\n",
       "    </tr>\n",
       "    <tr>\n",
       "      <th>3</th>\n",
       "      <td>180</td>\n",
       "      <td>Function for creating color wheels</td>\n",
       "      <td>&lt;p&gt;This is something I've pseudo-solved many t...</td>\n",
       "    </tr>\n",
       "    <tr>\n",
       "      <th>4</th>\n",
       "      <td>260</td>\n",
       "      <td>Adding scripting functionality to .NET applica...</td>\n",
       "      <td>&lt;p&gt;I have a little game written in C#. It uses...</td>\n",
       "    </tr>\n",
       "  </tbody>\n",
       "</table>\n",
       "</div>"
      ],
      "text/plain": [
       "    Id  ...                                               Body\n",
       "0   80  ...  <p>I've written a database generation script i...\n",
       "1   90  ...  <p>Are there any really good tutorials explain...\n",
       "2  120  ...  <p>Has anyone got experience creating <strong>...\n",
       "3  180  ...  <p>This is something I've pseudo-solved many t...\n",
       "4  260  ...  <p>I have a little game written in C#. It uses...\n",
       "\n",
       "[5 rows x 3 columns]"
      ]
     },
     "execution_count": 11,
     "metadata": {
      "tags": []
     },
     "output_type": "execute_result"
    }
   ],
   "source": [
    "questions_data.drop(columns=['OwnerUserId', 'CreationDate', 'ClosedDate', 'Score'], inplace=True)\n",
    "questions_data.head()"
   ]
  },
  {
   "cell_type": "code",
   "execution_count": 12,
   "metadata": {
    "colab": {
     "base_uri": "https://localhost:8080/",
     "height": 287
    },
    "id": "dxiXmJ7FMGNK",
    "outputId": "ebf2a6b5-637d-4ae2-f3de-c3dada1c8f9b"
   },
   "outputs": [
    {
     "data": {
      "text/html": [
       "<div>\n",
       "<style scoped>\n",
       "    .dataframe tbody tr th:only-of-type {\n",
       "        vertical-align: middle;\n",
       "    }\n",
       "\n",
       "    .dataframe tbody tr th {\n",
       "        vertical-align: top;\n",
       "    }\n",
       "\n",
       "    .dataframe thead th {\n",
       "        text-align: right;\n",
       "    }\n",
       "</style>\n",
       "<table border=\"1\" class=\"dataframe\">\n",
       "  <thead>\n",
       "    <tr style=\"text-align: right;\">\n",
       "      <th></th>\n",
       "      <th>Id</th>\n",
       "      <th>Title</th>\n",
       "      <th>Body</th>\n",
       "      <th>Text</th>\n",
       "    </tr>\n",
       "  </thead>\n",
       "  <tbody>\n",
       "    <tr>\n",
       "      <th>0</th>\n",
       "      <td>80</td>\n",
       "      <td>SQLStatement.execute() - multiple queries in o...</td>\n",
       "      <td>&lt;p&gt;I've written a database generation script i...</td>\n",
       "      <td>SQLStatement.execute() - multiple queries in o...</td>\n",
       "    </tr>\n",
       "    <tr>\n",
       "      <th>1</th>\n",
       "      <td>90</td>\n",
       "      <td>Good branching and merging tutorials for Torto...</td>\n",
       "      <td>&lt;p&gt;Are there any really good tutorials explain...</td>\n",
       "      <td>Good branching and merging tutorials for Torto...</td>\n",
       "    </tr>\n",
       "    <tr>\n",
       "      <th>2</th>\n",
       "      <td>120</td>\n",
       "      <td>ASP.NET Site Maps</td>\n",
       "      <td>&lt;p&gt;Has anyone got experience creating &lt;strong&gt;...</td>\n",
       "      <td>ASP.NET Site Maps &lt;p&gt;Has anyone got experience...</td>\n",
       "    </tr>\n",
       "    <tr>\n",
       "      <th>3</th>\n",
       "      <td>180</td>\n",
       "      <td>Function for creating color wheels</td>\n",
       "      <td>&lt;p&gt;This is something I've pseudo-solved many t...</td>\n",
       "      <td>Function for creating color wheels &lt;p&gt;This is ...</td>\n",
       "    </tr>\n",
       "    <tr>\n",
       "      <th>4</th>\n",
       "      <td>260</td>\n",
       "      <td>Adding scripting functionality to .NET applica...</td>\n",
       "      <td>&lt;p&gt;I have a little game written in C#. It uses...</td>\n",
       "      <td>Adding scripting functionality to .NET applica...</td>\n",
       "    </tr>\n",
       "  </tbody>\n",
       "</table>\n",
       "</div>"
      ],
      "text/plain": [
       "    Id  ...                                               Text\n",
       "0   80  ...  SQLStatement.execute() - multiple queries in o...\n",
       "1   90  ...  Good branching and merging tutorials for Torto...\n",
       "2  120  ...  ASP.NET Site Maps <p>Has anyone got experience...\n",
       "3  180  ...  Function for creating color wheels <p>This is ...\n",
       "4  260  ...  Adding scripting functionality to .NET applica...\n",
       "\n",
       "[5 rows x 4 columns]"
      ]
     },
     "execution_count": 12,
     "metadata": {
      "tags": []
     },
     "output_type": "execute_result"
    }
   ],
   "source": [
    "questions_data['Text'] = questions_data[questions_data.columns[1:]].apply(\n",
    "    lambda x: ' '.join(x.dropna().astype(str)),\n",
    "    axis=1\n",
    ")\n",
    "questions_data.head()"
   ]
  },
  {
   "cell_type": "code",
   "execution_count": null,
   "metadata": {
    "id": "JykFa3tiMGQq"
   },
   "outputs": [],
   "source": [
    "!pip install beautifulsoup4"
   ]
  },
  {
   "cell_type": "code",
   "execution_count": 14,
   "metadata": {
    "id": "_Jcr76Mcbgnx"
   },
   "outputs": [],
   "source": [
    "from bs4 import BeautifulSoup\n",
    "\n",
    "questions_data['Text'] = questions_data['Text'].apply(lambda x: BeautifulSoup(x).get_text())\n",
    "questions_data['Text'].replace('[^a-zA-Z]',' ', regex=True, inplace=True)\n",
    "questions_data['Text'] = questions_data['Text'].str.lower()\n",
    "questions_data['Text'] = questions_data['Text'].replace('\\s+', ' ', regex=True)"
   ]
  },
  {
   "cell_type": "code",
   "execution_count": 15,
   "metadata": {
    "id": "TdKusMItbgrS"
   },
   "outputs": [],
   "source": [
    "stop_words = set(stopwords.words('english')) \n",
    "len(stop_words)\n",
    "questions_data['Text'] = questions_data['Text'].apply(lambda x: ' '.join(term for term in x.split() if term not in stop_words))"
   ]
  },
  {
   "cell_type": "code",
   "execution_count": 16,
   "metadata": {
    "id": "lYCeWjhXbguK"
   },
   "outputs": [],
   "source": [
    "lemmatizer = WordNetLemmatizer()\n",
    "questions_data['Text'] = questions_data['Text'].apply(lambda x: ' '.join(lemmatizer.lemmatize(term) for term in x.split()))"
   ]
  },
  {
   "cell_type": "code",
   "execution_count": 17,
   "metadata": {
    "colab": {
     "base_uri": "https://localhost:8080/",
     "height": 287
    },
    "id": "0esjdJEwbgxM",
    "outputId": "1b3ec1f7-dbf5-4b76-e5c6-8207d0b0a651"
   },
   "outputs": [
    {
     "data": {
      "text/html": [
       "<div>\n",
       "<style scoped>\n",
       "    .dataframe tbody tr th:only-of-type {\n",
       "        vertical-align: middle;\n",
       "    }\n",
       "\n",
       "    .dataframe tbody tr th {\n",
       "        vertical-align: top;\n",
       "    }\n",
       "\n",
       "    .dataframe thead th {\n",
       "        text-align: right;\n",
       "    }\n",
       "</style>\n",
       "<table border=\"1\" class=\"dataframe\">\n",
       "  <thead>\n",
       "    <tr style=\"text-align: right;\">\n",
       "      <th></th>\n",
       "      <th>Id</th>\n",
       "      <th>Title</th>\n",
       "      <th>Body</th>\n",
       "      <th>Text</th>\n",
       "    </tr>\n",
       "  </thead>\n",
       "  <tbody>\n",
       "    <tr>\n",
       "      <th>0</th>\n",
       "      <td>80</td>\n",
       "      <td>SQLStatement.execute() - multiple queries in o...</td>\n",
       "      <td>&lt;p&gt;I've written a database generation script i...</td>\n",
       "      <td>sqlstatement execute multiple query one statem...</td>\n",
       "    </tr>\n",
       "    <tr>\n",
       "      <th>1</th>\n",
       "      <td>90</td>\n",
       "      <td>Good branching and merging tutorials for Torto...</td>\n",
       "      <td>&lt;p&gt;Are there any really good tutorials explain...</td>\n",
       "      <td>good branching merging tutorial tortoisesvn re...</td>\n",
       "    </tr>\n",
       "    <tr>\n",
       "      <th>2</th>\n",
       "      <td>120</td>\n",
       "      <td>ASP.NET Site Maps</td>\n",
       "      <td>&lt;p&gt;Has anyone got experience creating &lt;strong&gt;...</td>\n",
       "      <td>asp net site map anyone got experience creatin...</td>\n",
       "    </tr>\n",
       "    <tr>\n",
       "      <th>3</th>\n",
       "      <td>180</td>\n",
       "      <td>Function for creating color wheels</td>\n",
       "      <td>&lt;p&gt;This is something I've pseudo-solved many t...</td>\n",
       "      <td>function creating color wheel something pseudo...</td>\n",
       "    </tr>\n",
       "    <tr>\n",
       "      <th>4</th>\n",
       "      <td>260</td>\n",
       "      <td>Adding scripting functionality to .NET applica...</td>\n",
       "      <td>&lt;p&gt;I have a little game written in C#. It uses...</td>\n",
       "      <td>adding scripting functionality net application...</td>\n",
       "    </tr>\n",
       "  </tbody>\n",
       "</table>\n",
       "</div>"
      ],
      "text/plain": [
       "    Id  ...                                               Text\n",
       "0   80  ...  sqlstatement execute multiple query one statem...\n",
       "1   90  ...  good branching merging tutorial tortoisesvn re...\n",
       "2  120  ...  asp net site map anyone got experience creatin...\n",
       "3  180  ...  function creating color wheel something pseudo...\n",
       "4  260  ...  adding scripting functionality net application...\n",
       "\n",
       "[5 rows x 4 columns]"
      ]
     },
     "execution_count": 17,
     "metadata": {
      "tags": []
     },
     "output_type": "execute_result"
    }
   ],
   "source": [
    "questions_data.head()"
   ]
  },
  {
   "cell_type": "code",
   "execution_count": 18,
   "metadata": {
    "colab": {
     "base_uri": "https://localhost:8080/",
     "height": 203
    },
    "id": "vr9Zoq_WdieN",
    "outputId": "2fe1171c-3427-4890-f9d6-ea65b0435d5d"
   },
   "outputs": [
    {
     "data": {
      "text/html": [
       "<div>\n",
       "<style scoped>\n",
       "    .dataframe tbody tr th:only-of-type {\n",
       "        vertical-align: middle;\n",
       "    }\n",
       "\n",
       "    .dataframe tbody tr th {\n",
       "        vertical-align: top;\n",
       "    }\n",
       "\n",
       "    .dataframe thead th {\n",
       "        text-align: right;\n",
       "    }\n",
       "</style>\n",
       "<table border=\"1\" class=\"dataframe\">\n",
       "  <thead>\n",
       "    <tr style=\"text-align: right;\">\n",
       "      <th></th>\n",
       "      <th>Id</th>\n",
       "      <th>Text</th>\n",
       "    </tr>\n",
       "  </thead>\n",
       "  <tbody>\n",
       "    <tr>\n",
       "      <th>0</th>\n",
       "      <td>80</td>\n",
       "      <td>sqlstatement execute multiple query one statem...</td>\n",
       "    </tr>\n",
       "    <tr>\n",
       "      <th>1</th>\n",
       "      <td>90</td>\n",
       "      <td>good branching merging tutorial tortoisesvn re...</td>\n",
       "    </tr>\n",
       "    <tr>\n",
       "      <th>2</th>\n",
       "      <td>120</td>\n",
       "      <td>asp net site map anyone got experience creatin...</td>\n",
       "    </tr>\n",
       "    <tr>\n",
       "      <th>3</th>\n",
       "      <td>180</td>\n",
       "      <td>function creating color wheel something pseudo...</td>\n",
       "    </tr>\n",
       "    <tr>\n",
       "      <th>4</th>\n",
       "      <td>260</td>\n",
       "      <td>adding scripting functionality net application...</td>\n",
       "    </tr>\n",
       "  </tbody>\n",
       "</table>\n",
       "</div>"
      ],
      "text/plain": [
       "    Id                                               Text\n",
       "0   80  sqlstatement execute multiple query one statem...\n",
       "1   90  good branching merging tutorial tortoisesvn re...\n",
       "2  120  asp net site map anyone got experience creatin...\n",
       "3  180  function creating color wheel something pseudo...\n",
       "4  260  adding scripting functionality net application..."
      ]
     },
     "execution_count": 18,
     "metadata": {
      "tags": []
     },
     "output_type": "execute_result"
    }
   ],
   "source": [
    "questions_data.drop(columns=['Title', 'Body'], inplace=True)\n",
    "questions_data.head()"
   ]
  },
  {
   "cell_type": "markdown",
   "metadata": {
    "id": "eYOj8ZYhWb5y"
   },
   "source": [
    "## Load Tags Dataset"
   ]
  },
  {
   "cell_type": "code",
   "execution_count": 19,
   "metadata": {
    "colab": {
     "base_uri": "https://localhost:8080/",
     "height": 203
    },
    "id": "t7oYtaixdihn",
    "outputId": "a074644c-c44b-41a3-cb37-90f050f4a968"
   },
   "outputs": [
    {
     "data": {
      "text/html": [
       "<div>\n",
       "<style scoped>\n",
       "    .dataframe tbody tr th:only-of-type {\n",
       "        vertical-align: middle;\n",
       "    }\n",
       "\n",
       "    .dataframe tbody tr th {\n",
       "        vertical-align: top;\n",
       "    }\n",
       "\n",
       "    .dataframe thead th {\n",
       "        text-align: right;\n",
       "    }\n",
       "</style>\n",
       "<table border=\"1\" class=\"dataframe\">\n",
       "  <thead>\n",
       "    <tr style=\"text-align: right;\">\n",
       "      <th></th>\n",
       "      <th>Id</th>\n",
       "      <th>Tag</th>\n",
       "    </tr>\n",
       "  </thead>\n",
       "  <tbody>\n",
       "    <tr>\n",
       "      <th>0</th>\n",
       "      <td>80</td>\n",
       "      <td>flex</td>\n",
       "    </tr>\n",
       "    <tr>\n",
       "      <th>1</th>\n",
       "      <td>80</td>\n",
       "      <td>actionscript-3</td>\n",
       "    </tr>\n",
       "    <tr>\n",
       "      <th>2</th>\n",
       "      <td>80</td>\n",
       "      <td>air</td>\n",
       "    </tr>\n",
       "    <tr>\n",
       "      <th>3</th>\n",
       "      <td>90</td>\n",
       "      <td>svn</td>\n",
       "    </tr>\n",
       "    <tr>\n",
       "      <th>4</th>\n",
       "      <td>90</td>\n",
       "      <td>tortoisesvn</td>\n",
       "    </tr>\n",
       "  </tbody>\n",
       "</table>\n",
       "</div>"
      ],
      "text/plain": [
       "   Id             Tag\n",
       "0  80            flex\n",
       "1  80  actionscript-3\n",
       "2  80             air\n",
       "3  90             svn\n",
       "4  90     tortoisesvn"
      ]
     },
     "execution_count": 19,
     "metadata": {
      "tags": []
     },
     "output_type": "execute_result"
    }
   ],
   "source": [
    "tags_data = pd.read_csv('/content/gdrive/My Drive/Deep_Learning/stacksample/Tags.csv',encoding='iso-8859-1')\n",
    "tags_data.head()"
   ]
  },
  {
   "cell_type": "markdown",
   "metadata": {
    "id": "b_EscStVWmp2"
   },
   "source": [
    "## Get Top 10 Tags and Prepare Data"
   ]
  },
  {
   "cell_type": "code",
   "execution_count": 20,
   "metadata": {
    "colab": {
     "base_uri": "https://localhost:8080/"
    },
    "id": "xy_jbGa8d1p6",
    "outputId": "38f812f3-fef7-4ef2-da91-256ef4ac2175"
   },
   "outputs": [
    {
     "data": {
      "text/plain": [
       "(3750994, 2)"
      ]
     },
     "execution_count": 20,
     "metadata": {
      "tags": []
     },
     "output_type": "execute_result"
    }
   ],
   "source": [
    "tags_data.shape"
   ]
  },
  {
   "cell_type": "code",
   "execution_count": 21,
   "metadata": {
    "colab": {
     "base_uri": "https://localhost:8080/"
    },
    "id": "7TtjQNDMd16n",
    "outputId": "9a9a6f11-3cbc-4d08-d6fc-44cac99b6323"
   },
   "outputs": [
    {
     "data": {
      "text/plain": [
       "['javascript',\n",
       " 'java',\n",
       " 'c#',\n",
       " 'php',\n",
       " 'android',\n",
       " 'jquery',\n",
       " 'python',\n",
       " 'html',\n",
       " 'c++',\n",
       " 'ios']"
      ]
     },
     "execution_count": 21,
     "metadata": {
      "tags": []
     },
     "output_type": "execute_result"
    }
   ],
   "source": [
    "top10 = list(tags_data.Tag.value_counts()[:10].index)\n",
    "top10"
   ]
  },
  {
   "cell_type": "code",
   "execution_count": 22,
   "metadata": {
    "colab": {
     "base_uri": "https://localhost:8080/",
     "height": 220
    },
    "id": "jsRp6zOid1-u",
    "outputId": "745fdbce-c124-4d1d-b407-c5458070928b"
   },
   "outputs": [
    {
     "name": "stdout",
     "output_type": "stream",
     "text": [
      "(826739, 2)\n"
     ]
    },
    {
     "data": {
      "text/html": [
       "<div>\n",
       "<style scoped>\n",
       "    .dataframe tbody tr th:only-of-type {\n",
       "        vertical-align: middle;\n",
       "    }\n",
       "\n",
       "    .dataframe tbody tr th {\n",
       "        vertical-align: top;\n",
       "    }\n",
       "\n",
       "    .dataframe thead th {\n",
       "        text-align: right;\n",
       "    }\n",
       "</style>\n",
       "<table border=\"1\" class=\"dataframe\">\n",
       "  <thead>\n",
       "    <tr style=\"text-align: right;\">\n",
       "      <th></th>\n",
       "      <th>Id</th>\n",
       "      <th>Tag</th>\n",
       "    </tr>\n",
       "  </thead>\n",
       "  <tbody>\n",
       "    <tr>\n",
       "      <th>14</th>\n",
       "      <td>260</td>\n",
       "      <td>c#</td>\n",
       "    </tr>\n",
       "    <tr>\n",
       "      <th>18</th>\n",
       "      <td>330</td>\n",
       "      <td>c++</td>\n",
       "    </tr>\n",
       "    <tr>\n",
       "      <th>28</th>\n",
       "      <td>650</td>\n",
       "      <td>c#</td>\n",
       "    </tr>\n",
       "    <tr>\n",
       "      <th>35</th>\n",
       "      <td>930</td>\n",
       "      <td>c#</td>\n",
       "    </tr>\n",
       "    <tr>\n",
       "      <th>39</th>\n",
       "      <td>1010</td>\n",
       "      <td>c#</td>\n",
       "    </tr>\n",
       "  </tbody>\n",
       "</table>\n",
       "</div>"
      ],
      "text/plain": [
       "      Id  Tag\n",
       "14   260   c#\n",
       "18   330  c++\n",
       "28   650   c#\n",
       "35   930   c#\n",
       "39  1010   c#"
      ]
     },
     "execution_count": 22,
     "metadata": {
      "tags": []
     },
     "output_type": "execute_result"
    }
   ],
   "source": [
    "tags_top10 = tags_data[tags_data.Tag.isin(top10)]\n",
    "print (tags_top10.shape)\n",
    "tags_top10.head()"
   ]
  },
  {
   "cell_type": "code",
   "execution_count": 23,
   "metadata": {
    "colab": {
     "base_uri": "https://localhost:8080/"
    },
    "id": "RqFOmhgid2EQ",
    "outputId": "0c3a208c-fa0f-4884-ca02-fdc86d33e45c"
   },
   "outputs": [
    {
     "data": {
      "text/plain": [
       "(826739, (826739, 2))"
      ]
     },
     "execution_count": 23,
     "metadata": {
      "tags": []
     },
     "output_type": "execute_result"
    }
   ],
   "source": [
    "def add_tags(question_id):\n",
    "    return tags_top10[tags_top10['Id'] == question_id['Id']].Tag.values\n",
    "\n",
    "top10 = tags_top10.apply(add_tags, axis=1)\n",
    "len(top10),tags_top10.shape"
   ]
  },
  {
   "cell_type": "code",
   "execution_count": 24,
   "metadata": {
    "colab": {
     "base_uri": "https://localhost:8080/"
    },
    "id": "vmPY0Hc97NJW",
    "outputId": "f44a6e14-9e8e-4c45-9742-05a856d17c27"
   },
   "outputs": [
    {
     "data": {
      "text/plain": [
       "14     [c#]\n",
       "18    [c++]\n",
       "28     [c#]\n",
       "35     [c#]\n",
       "39     [c#]\n",
       "dtype: object"
      ]
     },
     "execution_count": 24,
     "metadata": {
      "tags": []
     },
     "output_type": "execute_result"
    }
   ],
   "source": [
    "top10.head()"
   ]
  },
  {
   "cell_type": "code",
   "execution_count": 25,
   "metadata": {
    "colab": {
     "base_uri": "https://localhost:8080/",
     "height": 203
    },
    "id": "MXcVxl7T7NNT",
    "outputId": "1cf8e112-a544-4c26-84a2-b2a8f86a7a24"
   },
   "outputs": [
    {
     "data": {
      "text/html": [
       "<div>\n",
       "<style scoped>\n",
       "    .dataframe tbody tr th:only-of-type {\n",
       "        vertical-align: middle;\n",
       "    }\n",
       "\n",
       "    .dataframe tbody tr th {\n",
       "        vertical-align: top;\n",
       "    }\n",
       "\n",
       "    .dataframe thead th {\n",
       "        text-align: right;\n",
       "    }\n",
       "</style>\n",
       "<table border=\"1\" class=\"dataframe\">\n",
       "  <thead>\n",
       "    <tr style=\"text-align: right;\">\n",
       "      <th></th>\n",
       "      <th>Id</th>\n",
       "      <th>Tag</th>\n",
       "    </tr>\n",
       "  </thead>\n",
       "  <tbody>\n",
       "    <tr>\n",
       "      <th>14</th>\n",
       "      <td>260</td>\n",
       "      <td>c#</td>\n",
       "    </tr>\n",
       "    <tr>\n",
       "      <th>18</th>\n",
       "      <td>330</td>\n",
       "      <td>c++</td>\n",
       "    </tr>\n",
       "    <tr>\n",
       "      <th>28</th>\n",
       "      <td>650</td>\n",
       "      <td>c#</td>\n",
       "    </tr>\n",
       "    <tr>\n",
       "      <th>35</th>\n",
       "      <td>930</td>\n",
       "      <td>c#</td>\n",
       "    </tr>\n",
       "    <tr>\n",
       "      <th>39</th>\n",
       "      <td>1010</td>\n",
       "      <td>c#</td>\n",
       "    </tr>\n",
       "  </tbody>\n",
       "</table>\n",
       "</div>"
      ],
      "text/plain": [
       "      Id  Tag\n",
       "14   260   c#\n",
       "18   330  c++\n",
       "28   650   c#\n",
       "35   930   c#\n",
       "39  1010   c#"
      ]
     },
     "execution_count": 25,
     "metadata": {
      "tags": []
     },
     "output_type": "execute_result"
    }
   ],
   "source": [
    "tags_top10.head()"
   ]
  },
  {
   "cell_type": "code",
   "execution_count": 26,
   "metadata": {
    "colab": {
     "base_uri": "https://localhost:8080/",
     "height": 203
    },
    "id": "SAy4v_yo7NQ4",
    "outputId": "1f0818f1-3b24-44ba-92a0-9faf88214cd5"
   },
   "outputs": [
    {
     "data": {
      "text/html": [
       "<div>\n",
       "<style scoped>\n",
       "    .dataframe tbody tr th:only-of-type {\n",
       "        vertical-align: middle;\n",
       "    }\n",
       "\n",
       "    .dataframe tbody tr th {\n",
       "        vertical-align: top;\n",
       "    }\n",
       "\n",
       "    .dataframe thead th {\n",
       "        text-align: right;\n",
       "    }\n",
       "</style>\n",
       "<table border=\"1\" class=\"dataframe\">\n",
       "  <thead>\n",
       "    <tr style=\"text-align: right;\">\n",
       "      <th></th>\n",
       "      <th>Id</th>\n",
       "      <th>Tag</th>\n",
       "      <th>Tags</th>\n",
       "    </tr>\n",
       "  </thead>\n",
       "  <tbody>\n",
       "    <tr>\n",
       "      <th>14</th>\n",
       "      <td>260</td>\n",
       "      <td>c#</td>\n",
       "      <td>[c#]</td>\n",
       "    </tr>\n",
       "    <tr>\n",
       "      <th>18</th>\n",
       "      <td>330</td>\n",
       "      <td>c++</td>\n",
       "      <td>[c++]</td>\n",
       "    </tr>\n",
       "    <tr>\n",
       "      <th>28</th>\n",
       "      <td>650</td>\n",
       "      <td>c#</td>\n",
       "      <td>[c#]</td>\n",
       "    </tr>\n",
       "    <tr>\n",
       "      <th>35</th>\n",
       "      <td>930</td>\n",
       "      <td>c#</td>\n",
       "      <td>[c#]</td>\n",
       "    </tr>\n",
       "    <tr>\n",
       "      <th>39</th>\n",
       "      <td>1010</td>\n",
       "      <td>c#</td>\n",
       "      <td>[c#]</td>\n",
       "    </tr>\n",
       "  </tbody>\n",
       "</table>\n",
       "</div>"
      ],
      "text/plain": [
       "      Id  Tag   Tags\n",
       "14   260   c#   [c#]\n",
       "18   330  c++  [c++]\n",
       "28   650   c#   [c#]\n",
       "35   930   c#   [c#]\n",
       "39  1010   c#   [c#]"
      ]
     },
     "execution_count": 26,
     "metadata": {
      "tags": []
     },
     "output_type": "execute_result"
    }
   ],
   "source": [
    "tags_top10 = pd.concat([tags_top10, top10.rename('Tags')], axis=1)\n",
    "tags_top10.head()"
   ]
  },
  {
   "cell_type": "code",
   "execution_count": 27,
   "metadata": {
    "colab": {
     "base_uri": "https://localhost:8080/"
    },
    "id": "1Uun-FDA7gqj",
    "outputId": "f203e44f-31e0-43d2-a59e-a08bc7c941f8"
   },
   "outputs": [
    {
     "data": {
      "text/plain": [
       "(826739, 2)"
      ]
     },
     "execution_count": 27,
     "metadata": {
      "tags": []
     },
     "output_type": "execute_result"
    }
   ],
   "source": [
    "tags_top10.drop([\"Tag\"], axis=1, inplace=True)\n",
    "tags_top10.shape"
   ]
  },
  {
   "cell_type": "code",
   "execution_count": 28,
   "metadata": {
    "colab": {
     "base_uri": "https://localhost:8080/"
    },
    "id": "RDbL8Nv17gug",
    "outputId": "4c3c8ae8-f9c6-4386-c1ed-dd90c400b032"
   },
   "outputs": [
    {
     "data": {
      "text/plain": [
       "(706336, 2)"
      ]
     },
     "execution_count": 28,
     "metadata": {
      "tags": []
     },
     "output_type": "execute_result"
    }
   ],
   "source": [
    "top10_tags = tags_top10.loc[tags_top10.astype(str).drop_duplicates().index]\n",
    "top10_tags.shape"
   ]
  },
  {
   "cell_type": "code",
   "execution_count": 30,
   "metadata": {
    "colab": {
     "base_uri": "https://localhost:8080/",
     "height": 203
    },
    "id": "WnbLHPme7gxO",
    "outputId": "61f18e5e-cab2-45eb-cb01-593af8051bee"
   },
   "outputs": [
    {
     "data": {
      "text/html": [
       "<div>\n",
       "<style scoped>\n",
       "    .dataframe tbody tr th:only-of-type {\n",
       "        vertical-align: middle;\n",
       "    }\n",
       "\n",
       "    .dataframe tbody tr th {\n",
       "        vertical-align: top;\n",
       "    }\n",
       "\n",
       "    .dataframe thead th {\n",
       "        text-align: right;\n",
       "    }\n",
       "</style>\n",
       "<table border=\"1\" class=\"dataframe\">\n",
       "  <thead>\n",
       "    <tr style=\"text-align: right;\">\n",
       "      <th></th>\n",
       "      <th>Id</th>\n",
       "      <th>Tags</th>\n",
       "    </tr>\n",
       "  </thead>\n",
       "  <tbody>\n",
       "    <tr>\n",
       "      <th>14</th>\n",
       "      <td>260</td>\n",
       "      <td>[c#]</td>\n",
       "    </tr>\n",
       "    <tr>\n",
       "      <th>18</th>\n",
       "      <td>330</td>\n",
       "      <td>[c++]</td>\n",
       "    </tr>\n",
       "    <tr>\n",
       "      <th>28</th>\n",
       "      <td>650</td>\n",
       "      <td>[c#]</td>\n",
       "    </tr>\n",
       "    <tr>\n",
       "      <th>35</th>\n",
       "      <td>930</td>\n",
       "      <td>[c#]</td>\n",
       "    </tr>\n",
       "    <tr>\n",
       "      <th>39</th>\n",
       "      <td>1010</td>\n",
       "      <td>[c#]</td>\n",
       "    </tr>\n",
       "  </tbody>\n",
       "</table>\n",
       "</div>"
      ],
      "text/plain": [
       "      Id   Tags\n",
       "14   260   [c#]\n",
       "18   330  [c++]\n",
       "28   650   [c#]\n",
       "35   930   [c#]\n",
       "39  1010   [c#]"
      ]
     },
     "execution_count": 30,
     "metadata": {
      "tags": []
     },
     "output_type": "execute_result"
    }
   ],
   "source": [
    "top10_tags.head()"
   ]
  },
  {
   "cell_type": "markdown",
   "metadata": {
    "id": "3x8HQmv1XBzI"
   },
   "source": [
    "## Merge Questions data and Tags Data"
   ]
  },
  {
   "cell_type": "code",
   "execution_count": 31,
   "metadata": {
    "colab": {
     "base_uri": "https://localhost:8080/",
     "height": 220
    },
    "id": "t2i2RtKH7g3K",
    "outputId": "ba2c59e9-2489-44b2-8b25-96a3441baebc"
   },
   "outputs": [
    {
     "name": "stdout",
     "output_type": "stream",
     "text": [
      "(102882, 3)\n"
     ]
    },
    {
     "data": {
      "text/html": [
       "<div>\n",
       "<style scoped>\n",
       "    .dataframe tbody tr th:only-of-type {\n",
       "        vertical-align: middle;\n",
       "    }\n",
       "\n",
       "    .dataframe tbody tr th {\n",
       "        vertical-align: top;\n",
       "    }\n",
       "\n",
       "    .dataframe thead th {\n",
       "        text-align: right;\n",
       "    }\n",
       "</style>\n",
       "<table border=\"1\" class=\"dataframe\">\n",
       "  <thead>\n",
       "    <tr style=\"text-align: right;\">\n",
       "      <th></th>\n",
       "      <th>Id</th>\n",
       "      <th>Text</th>\n",
       "      <th>Tags</th>\n",
       "    </tr>\n",
       "  </thead>\n",
       "  <tbody>\n",
       "    <tr>\n",
       "      <th>0</th>\n",
       "      <td>260</td>\n",
       "      <td>adding scripting functionality net application...</td>\n",
       "      <td>[c#]</td>\n",
       "    </tr>\n",
       "    <tr>\n",
       "      <th>1</th>\n",
       "      <td>330</td>\n",
       "      <td>use nested class case working collection class...</td>\n",
       "      <td>[c++]</td>\n",
       "    </tr>\n",
       "    <tr>\n",
       "      <th>2</th>\n",
       "      <td>650</td>\n",
       "      <td>automatically update version number would like...</td>\n",
       "      <td>[c#]</td>\n",
       "    </tr>\n",
       "    <tr>\n",
       "      <th>3</th>\n",
       "      <td>930</td>\n",
       "      <td>connect database loop recordset c simplest way...</td>\n",
       "      <td>[c#]</td>\n",
       "    </tr>\n",
       "    <tr>\n",
       "      <th>4</th>\n",
       "      <td>1010</td>\n",
       "      <td>get value built encoded viewstate need grab ba...</td>\n",
       "      <td>[c#]</td>\n",
       "    </tr>\n",
       "  </tbody>\n",
       "</table>\n",
       "</div>"
      ],
      "text/plain": [
       "     Id                                               Text   Tags\n",
       "0   260  adding scripting functionality net application...   [c#]\n",
       "1   330  use nested class case working collection class...  [c++]\n",
       "2   650  automatically update version number would like...   [c#]\n",
       "3   930  connect database loop recordset c simplest way...   [c#]\n",
       "4  1010  get value built encoded viewstate need grab ba...   [c#]"
      ]
     },
     "execution_count": 31,
     "metadata": {
      "tags": []
     },
     "output_type": "execute_result"
    }
   ],
   "source": [
    "all_data = pd.merge(questions_data, top10_tags, on='Id')\n",
    "print(all_data.shape)\n",
    "all_data.head()"
   ]
  },
  {
   "cell_type": "code",
   "execution_count": 32,
   "metadata": {
    "colab": {
     "base_uri": "https://localhost:8080/"
    },
    "id": "T6SBdPjJ77jk",
    "outputId": "404790ff-5509-4667-94bf-23a4bf81d1fe"
   },
   "outputs": [
    {
     "data": {
      "text/plain": [
       "array(['android', 'c#', 'c++', 'html', 'ios', 'java', 'javascript',\n",
       "       'jquery', 'php', 'python'], dtype=object)"
      ]
     },
     "execution_count": 32,
     "metadata": {
      "tags": []
     },
     "output_type": "execute_result"
    }
   ],
   "source": [
    "multilabel_binarizer = MultiLabelBinarizer()\n",
    "multilabel_binarizer.fit(all_data.Tags)\n",
    "labels = multilabel_binarizer.classes_\n",
    "labels"
   ]
  },
  {
   "cell_type": "code",
   "execution_count": 28,
   "metadata": {
    "colab": {
     "base_uri": "https://localhost:8080/"
    },
    "id": "dlbfi3v777n0",
    "outputId": "a830cc68-9b09-480e-c0d1-782021e98ad0"
   },
   "outputs": [
    {
     "data": {
      "text/plain": [
       "(102882, 3)"
      ]
     },
     "execution_count": 28,
     "metadata": {
      "tags": []
     },
     "output_type": "execute_result"
    }
   ],
   "source": [
    "all_data.shape"
   ]
  },
  {
   "cell_type": "markdown",
   "metadata": {
    "id": "qezgOZ38YoHq"
   },
   "source": [
    "## Split into Train and Test Set"
   ]
  },
  {
   "cell_type": "code",
   "execution_count": 33,
   "metadata": {
    "id": "xgjwm4P677q3"
   },
   "outputs": [],
   "source": [
    "train,test = train_test_split(all_data,test_size=0.2,random_state=21)"
   ]
  },
  {
   "cell_type": "code",
   "execution_count": 34,
   "metadata": {
    "colab": {
     "base_uri": "https://localhost:8080/"
    },
    "id": "eyFq4rUS77uY",
    "outputId": "6dc51010-4bc8-4dd3-ca63-56fc40022592"
   },
   "outputs": [
    {
     "data": {
      "text/plain": [
       "((82305, 3), (20577, 3))"
      ]
     },
     "execution_count": 34,
     "metadata": {
      "tags": []
     },
     "output_type": "execute_result"
    }
   ],
   "source": [
    "train.shape, test.shape"
   ]
  },
  {
   "cell_type": "code",
   "execution_count": 35,
   "metadata": {
    "id": "62bLh54h77xF"
   },
   "outputs": [],
   "source": [
    "x_train = train['Text']\n",
    "y_train = multilabel_binarizer.transform(train['Tags'])\n",
    "x_test = test['Text']\n",
    "y_test = multilabel_binarizer.transform(test['Tags'])"
   ]
  },
  {
   "cell_type": "code",
   "execution_count": 36,
   "metadata": {
    "colab": {
     "base_uri": "https://localhost:8080/"
    },
    "id": "XSCc2k6j770-",
    "outputId": "64097f05-55f0-494e-f792-c0b1a7ff4c97"
   },
   "outputs": [
    {
     "data": {
      "text/plain": [
       "3606"
      ]
     },
     "execution_count": 36,
     "metadata": {
      "tags": []
     },
     "output_type": "execute_result"
    }
   ],
   "source": [
    "sent_lens=[]\n",
    "for sent in train['Text']:\n",
    "    sent_lens.append(len(word_tokenize(sent)))\n",
    "max(sent_lens)"
   ]
  },
  {
   "cell_type": "code",
   "execution_count": 37,
   "metadata": {
    "colab": {
     "base_uri": "https://localhost:8080/"
    },
    "id": "oCYEXwle8ULm",
    "outputId": "97ffe82b-92f4-4f1a-8e25-45678fcd3e8f"
   },
   "outputs": [
    {
     "data": {
      "text/plain": [
       "508.0"
      ]
     },
     "execution_count": 37,
     "metadata": {
      "tags": []
     },
     "output_type": "execute_result"
    }
   ],
   "source": [
    "np.quantile(sent_lens,0.98)"
   ]
  },
  {
   "cell_type": "code",
   "execution_count": 38,
   "metadata": {
    "id": "A9M0fMSy8UPN"
   },
   "outputs": [],
   "source": [
    "max_len = 508\n",
    "tok = Tokenizer(char_level=False,split=' ')\n",
    "tok.fit_on_texts(x_train)\n",
    "sequences_train = tok.texts_to_sequences(x_train)"
   ]
  },
  {
   "cell_type": "code",
   "execution_count": 39,
   "metadata": {
    "colab": {
     "base_uri": "https://localhost:8080/"
    },
    "id": "Zock3Z5_8USu",
    "outputId": "1713d887-8be8-4efb-e7e3-a4b01697cf68"
   },
   "outputs": [
    {
     "data": {
      "text/plain": [
       "245003"
      ]
     },
     "execution_count": 39,
     "metadata": {
      "tags": []
     },
     "output_type": "execute_result"
    }
   ],
   "source": [
    "vocab_len = len(tok.index_word.keys())\n",
    "vocab_len"
   ]
  },
  {
   "cell_type": "code",
   "execution_count": 40,
   "metadata": {
    "colab": {
     "base_uri": "https://localhost:8080/"
    },
    "id": "wT5a_tHk8UVv",
    "outputId": "ddbd1ebc-92bf-4a03-c183-0984060eea28"
   },
   "outputs": [
    {
     "data": {
      "text/plain": [
       "array([[     0,      0,      0, ...,     15,    686,    116],\n",
       "       [     0,      0,      0, ...,     36,   1286,    105],\n",
       "       [    87,    303,    921, ...,   2592,     67, 144545],\n",
       "       ...,\n",
       "       [     0,      0,      0, ...,     12,   1859,    780],\n",
       "       [     0,      0,      0, ...,     13,    116,    377],\n",
       "       [     0,      0,      0, ...,  38478,  38478,    130]], dtype=int32)"
      ]
     },
     "execution_count": 40,
     "metadata": {
      "tags": []
     },
     "output_type": "execute_result"
    }
   ],
   "source": [
    "sequences_matrix_train = sequence.pad_sequences(sequences_train, maxlen=max_len)\n",
    "sequences_matrix_train"
   ]
  },
  {
   "cell_type": "code",
   "execution_count": 41,
   "metadata": {
    "id": "CRs-zXqs9JQz"
   },
   "outputs": [],
   "source": [
    "sequences_test = tok.texts_to_sequences(x_test)\n",
    "sequences_matrix_test = sequence.pad_sequences(sequences_test, maxlen=max_len)"
   ]
  },
  {
   "cell_type": "code",
   "execution_count": 42,
   "metadata": {
    "colab": {
     "base_uri": "https://localhost:8080/"
    },
    "id": "YrYZaD7r9JXa",
    "outputId": "d8725dc4-0a63-4aa6-b471-5322d3e3e301"
   },
   "outputs": [
    {
     "data": {
      "text/plain": [
       "((82305, 508), (20577, 508), (82305, 10), (20577, 10))"
      ]
     },
     "execution_count": 42,
     "metadata": {
      "tags": []
     },
     "output_type": "execute_result"
    }
   ],
   "source": [
    "sequences_matrix_train.shape, sequences_matrix_test.shape, y_train.shape, y_test.shape"
   ]
  },
  {
   "cell_type": "markdown",
   "metadata": {
    "id": "EzufMt24Y0bk"
   },
   "source": [
    "## Build the Model"
   ]
  },
  {
   "cell_type": "code",
   "execution_count": 39,
   "metadata": {
    "id": "3ZzPARsB9JbE"
   },
   "outputs": [],
   "source": [
    "\n",
    "inputs = Input(name='inputs', shape=[max_len])\n",
    "layer = Embedding(input_dim = vocab_len+1, output_dim = 500, input_length = max_len, mask_zero=True)(inputs)\n",
    "layer = LSTM(64)(layer) \n",
    "layer = Dropout(0.2)(layer)\n",
    "layer = Dense(256,activation='relu')(layer)\n",
    "layer = Dropout(0.2)(layer)\n",
    "layer = Dense(128,activation='relu')(layer)\n",
    "layer = Dropout(0.2)(layer)\n",
    "layer = Dense(10,activation='sigmoid')(layer)\n",
    "model = Model(inputs=inputs, outputs=layer)\n"
   ]
  },
  {
   "cell_type": "code",
   "execution_count": 40,
   "metadata": {
    "colab": {
     "base_uri": "https://localhost:8080/"
    },
    "id": "AFOf1svF9Jd6",
    "outputId": "52d4813e-ac0b-43dd-bce8-7ecbf932f253"
   },
   "outputs": [
    {
     "name": "stdout",
     "output_type": "stream",
     "text": [
      "Model: \"model\"\n",
      "_________________________________________________________________\n",
      "Layer (type)                 Output Shape              Param #   \n",
      "=================================================================\n",
      "inputs (InputLayer)          [(None, 508)]             0         \n",
      "_________________________________________________________________\n",
      "embedding (Embedding)        (None, 508, 500)          122502000 \n",
      "_________________________________________________________________\n",
      "lstm (LSTM)                  (None, 64)                144640    \n",
      "_________________________________________________________________\n",
      "dropout (Dropout)            (None, 64)                0         \n",
      "_________________________________________________________________\n",
      "dense (Dense)                (None, 256)               16640     \n",
      "_________________________________________________________________\n",
      "dropout_1 (Dropout)          (None, 256)               0         \n",
      "_________________________________________________________________\n",
      "dense_1 (Dense)              (None, 128)               32896     \n",
      "_________________________________________________________________\n",
      "dropout_2 (Dropout)          (None, 128)               0         \n",
      "_________________________________________________________________\n",
      "dense_2 (Dense)              (None, 10)                1290      \n",
      "=================================================================\n",
      "Total params: 122,697,466\n",
      "Trainable params: 122,697,466\n",
      "Non-trainable params: 0\n",
      "_________________________________________________________________\n"
     ]
    }
   ],
   "source": [
    "model.summary()"
   ]
  },
  {
   "cell_type": "code",
   "execution_count": 41,
   "metadata": {
    "id": "r9h7YHyk9Jhd"
   },
   "outputs": [],
   "source": [
    "filepath='/content/gdrive/My Drive/Deep_Learning/stacksample/weights-{epoch:02d}-{val_loss:.4f}.h5'\n",
    "checkpoint = ModelCheckpoint(filepath, monitor='val_loss', verbose=1, \n",
    "                             save_best_only=True)"
   ]
  },
  {
   "cell_type": "code",
   "execution_count": 42,
   "metadata": {
    "id": "8avYSEz19Jl0"
   },
   "outputs": [],
   "source": [
    "earlystop = EarlyStopping(monitor='val_loss', patience=3, verbose=1)"
   ]
  },
  {
   "cell_type": "code",
   "execution_count": 43,
   "metadata": {
    "id": "0K08ExZnWbTG"
   },
   "outputs": [],
   "source": [
    "model.compile(optimizer='adam',loss='binary_crossentropy',metrics=['accuracy'])"
   ]
  },
  {
   "cell_type": "markdown",
   "metadata": {
    "id": "yQE8un70ZGEV"
   },
   "source": [
    "## Train the Model"
   ]
  },
  {
   "cell_type": "code",
   "execution_count": 44,
   "metadata": {
    "colab": {
     "base_uri": "https://localhost:8080/"
    },
    "id": "jL-267qfWbWz",
    "outputId": "01e1b803-360d-4bbf-b5b3-38d3843e855e"
   },
   "outputs": [
    {
     "name": "stdout",
     "output_type": "stream",
     "text": [
      "Epoch 1/20\n",
      "644/644 [==============================] - 1491s 2s/step - loss: 0.3313 - accuracy: 0.2867 - val_loss: 0.1708 - val_accuracy: 0.6842\n",
      "\n",
      "Epoch 00001: val_loss improved from inf to 0.17084, saving model to /content/gdrive/My Drive/Deep_Learning/stacksample/weights-01-0.1708.h5\n",
      "Epoch 2/20\n",
      "644/644 [==============================] - 1478s 2s/step - loss: 0.1412 - accuracy: 0.7455 - val_loss: 0.1715 - val_accuracy: 0.7466\n",
      "\n",
      "Epoch 00002: val_loss did not improve from 0.17084\n",
      "Epoch 3/20\n",
      "644/644 [==============================] - 1476s 2s/step - loss: 0.1108 - accuracy: 0.8189 - val_loss: 0.0974 - val_accuracy: 0.8270\n",
      "\n",
      "Epoch 00003: val_loss improved from 0.17084 to 0.09743, saving model to /content/gdrive/My Drive/Deep_Learning/stacksample/weights-03-0.0974.h5\n",
      "Epoch 4/20\n",
      "644/644 [==============================] - 1477s 2s/step - loss: 0.0761 - accuracy: 0.8769 - val_loss: 0.1020 - val_accuracy: 0.8237\n",
      "\n",
      "Epoch 00004: val_loss did not improve from 0.09743\n",
      "Epoch 5/20\n",
      "644/644 [==============================] - 1494s 2s/step - loss: 0.0618 - accuracy: 0.8949 - val_loss: 0.0963 - val_accuracy: 0.8483\n",
      "\n",
      "Epoch 00005: val_loss improved from 0.09743 to 0.09633, saving model to /content/gdrive/My Drive/Deep_Learning/stacksample/weights-05-0.0963.h5\n",
      "Epoch 6/20\n",
      "644/644 [==============================] - 1502s 2s/step - loss: 0.0556 - accuracy: 0.9027 - val_loss: 0.1003 - val_accuracy: 0.8423\n",
      "\n",
      "Epoch 00006: val_loss did not improve from 0.09633\n",
      "Epoch 7/20\n",
      "644/644 [==============================] - 1508s 2s/step - loss: 0.0427 - accuracy: 0.9163 - val_loss: 0.1071 - val_accuracy: 0.8402\n",
      "\n",
      "Epoch 00007: val_loss did not improve from 0.09633\n",
      "Epoch 8/20\n",
      "644/644 [==============================] - 1496s 2s/step - loss: 0.0341 - accuracy: 0.9248 - val_loss: 0.1135 - val_accuracy: 0.8420\n",
      "\n",
      "Epoch 00008: val_loss did not improve from 0.09633\n",
      "Epoch 00008: early stopping\n"
     ]
    },
    {
     "data": {
      "text/plain": [
       "<keras.callbacks.History at 0x7fc96b33cc50>"
      ]
     },
     "execution_count": 44,
     "metadata": {
      "tags": []
     },
     "output_type": "execute_result"
    }
   ],
   "source": [
    "model.fit(sequences_matrix_train,y_train,\n",
    "              epochs=20,\n",
    "              batch_size=128,\n",
    "              validation_data=(sequences_matrix_test,y_test),\n",
    "              callbacks = [earlystop, checkpoint])"
   ]
  },
  {
   "cell_type": "code",
   "execution_count": 43,
   "metadata": {
    "id": "kZnH7a5OU7M3"
   },
   "outputs": [],
   "source": [
    "best_model = load_model('/content/gdrive/My Drive/Deep_Learning/stacksample/weights-05-0.0963.h5')"
   ]
  },
  {
   "cell_type": "code",
   "execution_count": 44,
   "metadata": {
    "colab": {
     "base_uri": "https://localhost:8080/"
    },
    "id": "2-3sqr3OU7Sw",
    "outputId": "e1f0f15a-86d0-49ef-9e12-47952dbf33b5"
   },
   "outputs": [
    {
     "name": "stdout",
     "output_type": "stream",
     "text": [
      "Model: \"model\"\n",
      "_________________________________________________________________\n",
      "Layer (type)                 Output Shape              Param #   \n",
      "=================================================================\n",
      "inputs (InputLayer)          [(None, 508)]             0         \n",
      "_________________________________________________________________\n",
      "embedding (Embedding)        (None, 508, 500)          122502000 \n",
      "_________________________________________________________________\n",
      "lstm (LSTM)                  (None, 64)                144640    \n",
      "_________________________________________________________________\n",
      "dropout (Dropout)            (None, 64)                0         \n",
      "_________________________________________________________________\n",
      "dense (Dense)                (None, 256)               16640     \n",
      "_________________________________________________________________\n",
      "dropout_1 (Dropout)          (None, 256)               0         \n",
      "_________________________________________________________________\n",
      "dense_1 (Dense)              (None, 128)               32896     \n",
      "_________________________________________________________________\n",
      "dropout_2 (Dropout)          (None, 128)               0         \n",
      "_________________________________________________________________\n",
      "dense_2 (Dense)              (None, 10)                1290      \n",
      "=================================================================\n",
      "Total params: 122,697,466\n",
      "Trainable params: 122,697,466\n",
      "Non-trainable params: 0\n",
      "_________________________________________________________________\n"
     ]
    }
   ],
   "source": [
    "best_model.summary()"
   ]
  },
  {
   "cell_type": "markdown",
   "metadata": {
    "id": "AXRW119iZO5b"
   },
   "source": [
    "## Test the Model"
   ]
  },
  {
   "cell_type": "code",
   "execution_count": 45,
   "metadata": {
    "id": "XKQNFzMEU7YR"
   },
   "outputs": [],
   "source": [
    "predictions = best_model.predict(sequences_matrix_test)"
   ]
  },
  {
   "cell_type": "markdown",
   "metadata": {
    "id": "dckZ9s5PZYzU"
   },
   "source": [
    "## Evaluate with ROC-AUC Score"
   ]
  },
  {
   "cell_type": "code",
   "execution_count": 46,
   "metadata": {
    "colab": {
     "base_uri": "https://localhost:8080/"
    },
    "id": "AJdq9fGfVnvD",
    "outputId": "f97074f6-1bb4-4f41-9482-3336dbabd169"
   },
   "outputs": [
    {
     "data": {
      "text/plain": [
       "0.9768599866754253"
      ]
     },
     "execution_count": 46,
     "metadata": {
      "tags": []
     },
     "output_type": "execute_result"
    }
   ],
   "source": [
    "roc_auc_score(y_test,predictions)"
   ]
  },
  {
   "cell_type": "markdown",
   "metadata": {
    "id": "iL1AKXrcZfM6"
   },
   "source": [
    "## Make a Prediction"
   ]
  },
  {
   "cell_type": "code",
   "execution_count": 47,
   "metadata": {
    "id": "4VHfTlShY3zL"
   },
   "outputs": [],
   "source": [
    "def pred_tags(index):\n",
    "    pred = predictions[index].round(decimals = 2)\n",
    "    threshold = 0.3\n",
    "    pred[pred>=threshold]=1\n",
    "    pred[pred<threshold]=0\n",
    "    pred = pred.astype(int)\n",
    "    cnt=0\n",
    "    pred_label = []\n",
    "    for i in pred:\n",
    "      if i==1:\n",
    "          pred_label.append(labels[cnt])\n",
    "      cnt = cnt+1  \n",
    "\n",
    "    print(\"Predicted Tags - \", pred_label)\n",
    "    "
   ]
  },
  {
   "cell_type": "code",
   "execution_count": 48,
   "metadata": {
    "colab": {
     "base_uri": "https://localhost:8080/"
    },
    "id": "JnDq4V5oVr61",
    "outputId": "f33c96e1-7603-4e32-b281-c0a8892a0c2e"
   },
   "outputs": [
    {
     "name": "stdout",
     "output_type": "stream",
     "text": [
      "Original Text and Tags -  Id                                                4334600\n",
      "Text    changing background color ajax jquery scenario...\n",
      "Tags                            [php, javascript, jquery]\n",
      "Name: 18848, dtype: object\n",
      "Predicted Tags -  ['javascript', 'jquery', 'php']\n"
     ]
    }
   ],
   "source": [
    "index = 216\n",
    "print(\"Original Text and Tags - \", test.iloc[index])\n",
    "pred_tags(index)"
   ]
  },
  {
   "cell_type": "code",
   "execution_count": 49,
   "metadata": {
    "colab": {
     "base_uri": "https://localhost:8080/"
    },
    "id": "lOWtsvQ2X-yH",
    "outputId": "42eb1e35-dd07-451e-ffbf-dd0e2ab4c646"
   },
   "outputs": [
    {
     "name": "stdout",
     "output_type": "stream",
     "text": [
      "Original Text and Tags -  Id                                               36780200\n",
      "Text    make struct immutable stack overflow internet ...\n",
      "Tags                                                 [c#]\n",
      "Name: 99637, dtype: object\n",
      "Predicted Tags -  ['c#']\n"
     ]
    }
   ],
   "source": [
    "index = 10167\n",
    "print(\"Original Text and Tags - \", test.iloc[index])\n",
    "pred_tags(index)"
   ]
  },
  {
   "cell_type": "code",
   "execution_count": 53,
   "metadata": {
    "colab": {
     "base_uri": "https://localhost:8080/"
    },
    "id": "Rsvn6Wq5YUcf",
    "outputId": "675c01f3-468e-4e0a-e985-092ace43c76e"
   },
   "outputs": [
    {
     "name": "stdout",
     "output_type": "stream",
     "text": [
      "Original Text and Tags -  Id                                               35910550\n",
      "Text    problem installing java android studio popup t...\n",
      "Tags                                      [java, android]\n",
      "Name: 98712, dtype: object\n",
      "Predicted Tags -  ['android', 'java']\n"
     ]
    }
   ],
   "source": [
    "index = 18675\n",
    "print(\"Original Text and Tags - \", test.iloc[index])\n",
    "pred_tags(index)"
   ]
  },
  {
   "cell_type": "markdown",
   "metadata": {
    "id": "tNDmKVM_Z7GI"
   },
   "source": [
    "## Save Model"
   ]
  },
  {
   "cell_type": "code",
   "execution_count": 50,
   "metadata": {
    "id": "00A1SpPEYUgC"
   },
   "outputs": [],
   "source": [
    "best_model.save('/content/gdrive/My Drive/Deep_Learning/stacksample/stack_overflow_tag_prediction_model.h5')"
   ]
  },
  {
   "cell_type": "code",
   "execution_count": null,
   "metadata": {
    "id": "cW_7_CoUULnu"
   },
   "outputs": [],
   "source": []
  }
 ],
 "metadata": {
  "accelerator": "GPU",
  "colab": {
   "collapsed_sections": [],
   "name": "Stack_Overflow_Tag_Prediction.ipynb",
   "provenance": [],
   "toc_visible": true
  },
  "kernelspec": {
   "display_name": "Python 3",
   "language": "python",
   "name": "python3"
  },
  "language_info": {
   "codemirror_mode": {
    "name": "ipython",
    "version": 3
   },
   "file_extension": ".py",
   "mimetype": "text/x-python",
   "name": "python",
   "nbconvert_exporter": "python",
   "pygments_lexer": "ipython3",
   "version": "3.7.6"
  }
 },
 "nbformat": 4,
 "nbformat_minor": 1
}
